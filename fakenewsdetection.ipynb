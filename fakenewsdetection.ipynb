{
 "cells": [
  {
   "cell_type": "markdown",
   "id": "e3650311",
   "metadata": {},
   "source": [
    "Importing Libraries"
   ]
  },
  {
   "cell_type": "code",
   "execution_count": 1,
   "id": "3007db24",
   "metadata": {},
   "outputs": [],
   "source": [
    "import pandas as pd\n",
    "import numpy as np\n",
    "import matplotlib.pyplot as plt\n",
    "import seaborn as sns\n",
    "import nltk\n",
    "import string\n",
    "\n",
    "from nltk.corpus import stopwords\n",
    "from nltk.stem import WordNetLemmatizer\n",
    "from sklearn.model_selection import train_test_split\n",
    "from sklearn.feature_extraction.text import TfidfVectorizer\n",
    "from sklearn.linear_model import LogisticRegression\n",
    "from sklearn.naive_bayes import MultinomialNB\n",
    "from sklearn.ensemble import RandomForestClassifier\n",
    "from sklearn.metrics import accuracy_score, precision_score, recall_score, f1_score, classification_report, confusion_matrix\n"
   ]
  },
  {
   "cell_type": "markdown",
   "id": "9416c511",
   "metadata": {},
   "source": [
    "NLTK Resources "
   ]
  },
  {
   "cell_type": "code",
   "execution_count": 3,
   "id": "0c21eb9a",
   "metadata": {},
   "outputs": [
    {
     "name": "stderr",
     "output_type": "stream",
     "text": [
      "[nltk_data] Downloading package stopwords to\n",
      "[nltk_data]     C:\\Users\\Qasim\\AppData\\Roaming\\nltk_data...\n",
      "[nltk_data]   Unzipping corpora\\stopwords.zip.\n",
      "[nltk_data] Downloading package wordnet to\n",
      "[nltk_data]     C:\\Users\\Qasim\\AppData\\Roaming\\nltk_data...\n"
     ]
    },
    {
     "data": {
      "text/plain": [
       "True"
      ]
     },
     "execution_count": 3,
     "metadata": {},
     "output_type": "execute_result"
    }
   ],
   "source": [
    "# Download NLTK resources for text preprocessing\n",
    "nltk.download(\"stopwords\")\n",
    "nltk.download(\"wordnet\")\n"
   ]
  },
  {
   "cell_type": "markdown",
   "id": "d62e8d92",
   "metadata": {},
   "source": [
    "Loading dataset"
   ]
  },
  {
   "cell_type": "code",
   "execution_count": 16,
   "id": "c8bd4317",
   "metadata": {},
   "outputs": [
    {
     "data": {
      "text/html": [
       "<div>\n",
       "<style scoped>\n",
       "    .dataframe tbody tr th:only-of-type {\n",
       "        vertical-align: middle;\n",
       "    }\n",
       "\n",
       "    .dataframe tbody tr th {\n",
       "        vertical-align: top;\n",
       "    }\n",
       "\n",
       "    .dataframe thead th {\n",
       "        text-align: right;\n",
       "    }\n",
       "</style>\n",
       "<table border=\"1\" class=\"dataframe\">\n",
       "  <thead>\n",
       "    <tr style=\"text-align: right;\">\n",
       "      <th></th>\n",
       "      <th>title</th>\n",
       "      <th>text</th>\n",
       "      <th>subject</th>\n",
       "      <th>date</th>\n",
       "      <th>label</th>\n",
       "    </tr>\n",
       "  </thead>\n",
       "  <tbody>\n",
       "    <tr>\n",
       "      <th>0</th>\n",
       "      <td>McConnell calls Army captain Khan 'an American...</td>\n",
       "      <td>WASHINGTON (Reuters) - Senate Majority Leader ...</td>\n",
       "      <td>politicsNews</td>\n",
       "      <td>July 31, 2016</td>\n",
       "      <td>1</td>\n",
       "    </tr>\n",
       "    <tr>\n",
       "      <th>1</th>\n",
       "      <td>RARE INTERVIEW WITH WHITE HOUSE SECRETARY: Bil...</td>\n",
       "      <td>This is a mind-blowing interview that confirms...</td>\n",
       "      <td>Government News</td>\n",
       "      <td>Jan 17, 2016</td>\n",
       "      <td>0</td>\n",
       "    </tr>\n",
       "    <tr>\n",
       "      <th>2</th>\n",
       "      <td>Fewer migrants entitled to join family in Germ...</td>\n",
       "      <td>BERLIN (Reuters) - The number of foreigners wh...</td>\n",
       "      <td>worldnews</td>\n",
       "      <td>October 19, 2017</td>\n",
       "      <td>1</td>\n",
       "    </tr>\n",
       "    <tr>\n",
       "      <th>3</th>\n",
       "      <td>EU lawmakers see little progress in Sri Lanka ...</td>\n",
       "      <td>COLOMBO (Reuters) - European lawmakers said on...</td>\n",
       "      <td>worldnews</td>\n",
       "      <td>November 2, 2017</td>\n",
       "      <td>1</td>\n",
       "    </tr>\n",
       "    <tr>\n",
       "      <th>4</th>\n",
       "      <td>House Speaker Ryan: lawmakers likely to come t...</td>\n",
       "      <td>WASHINGTON (Reuters) - U.S. House Speaker Paul...</td>\n",
       "      <td>politicsNews</td>\n",
       "      <td>April 14, 2016</td>\n",
       "      <td>1</td>\n",
       "    </tr>\n",
       "  </tbody>\n",
       "</table>\n",
       "</div>"
      ],
      "text/plain": [
       "                                               title  \\\n",
       "0  McConnell calls Army captain Khan 'an American...   \n",
       "1  RARE INTERVIEW WITH WHITE HOUSE SECRETARY: Bil...   \n",
       "2  Fewer migrants entitled to join family in Germ...   \n",
       "3  EU lawmakers see little progress in Sri Lanka ...   \n",
       "4  House Speaker Ryan: lawmakers likely to come t...   \n",
       "\n",
       "                                                text          subject  \\\n",
       "0  WASHINGTON (Reuters) - Senate Majority Leader ...     politicsNews   \n",
       "1  This is a mind-blowing interview that confirms...  Government News   \n",
       "2  BERLIN (Reuters) - The number of foreigners wh...        worldnews   \n",
       "3  COLOMBO (Reuters) - European lawmakers said on...        worldnews   \n",
       "4  WASHINGTON (Reuters) - U.S. House Speaker Paul...     politicsNews   \n",
       "\n",
       "                date  label  \n",
       "0     July 31, 2016       1  \n",
       "1       Jan 17, 2016      0  \n",
       "2  October 19, 2017       1  \n",
       "3  November 2, 2017       1  \n",
       "4    April 14, 2016       1  "
      ]
     },
     "execution_count": 16,
     "metadata": {},
     "output_type": "execute_result"
    }
   ],
   "source": [
    "# Load dataset from Kaggle: https://www.kaggle.com/clmentbisaillon/fake-and-real-news-dataset\n",
    "fake = pd.read_csv(\"Fake.csv\")\n",
    "true = pd.read_csv(\"True.csv\")\n",
    "\n",
    "# Assign labels (0 = Fake, 1 = Real)\n",
    "fake[\"label\"] = 0\n",
    "true[\"label\"] = 1\n",
    "\n",
    "# Merge datasets\n",
    "data = pd.concat([fake, true], axis=0).reset_index(drop=True)\n",
    "\n",
    "# Shuffle dataset\n",
    "data = data.sample(frac=1).reset_index(drop=True)\n",
    "\n",
    "data.head()\n"
   ]
  },
  {
   "cell_type": "markdown",
   "id": "968de1b4",
   "metadata": {},
   "source": [
    "test preprocessing"
   ]
  },
  {
   "cell_type": "code",
   "execution_count": 17,
   "id": "a5f34a78",
   "metadata": {},
   "outputs": [
    {
     "data": {
      "text/html": [
       "<div>\n",
       "<style scoped>\n",
       "    .dataframe tbody tr th:only-of-type {\n",
       "        vertical-align: middle;\n",
       "    }\n",
       "\n",
       "    .dataframe tbody tr th {\n",
       "        vertical-align: top;\n",
       "    }\n",
       "\n",
       "    .dataframe thead th {\n",
       "        text-align: right;\n",
       "    }\n",
       "</style>\n",
       "<table border=\"1\" class=\"dataframe\">\n",
       "  <thead>\n",
       "    <tr style=\"text-align: right;\">\n",
       "      <th></th>\n",
       "      <th>text</th>\n",
       "      <th>clean_text</th>\n",
       "      <th>label</th>\n",
       "    </tr>\n",
       "  </thead>\n",
       "  <tbody>\n",
       "    <tr>\n",
       "      <th>0</th>\n",
       "      <td>WASHINGTON (Reuters) - Senate Majority Leader ...</td>\n",
       "      <td>washington reuters senate majority leader mitc...</td>\n",
       "      <td>1</td>\n",
       "    </tr>\n",
       "    <tr>\n",
       "      <th>1</th>\n",
       "      <td>This is a mind-blowing interview that confirms...</td>\n",
       "      <td>mindblowing interview confirms much many u sus...</td>\n",
       "      <td>0</td>\n",
       "    </tr>\n",
       "    <tr>\n",
       "      <th>2</th>\n",
       "      <td>BERLIN (Reuters) - The number of foreigners wh...</td>\n",
       "      <td>berlin reuters number foreigner qualify join l...</td>\n",
       "      <td>1</td>\n",
       "    </tr>\n",
       "    <tr>\n",
       "      <th>3</th>\n",
       "      <td>COLOMBO (Reuters) - European lawmakers said on...</td>\n",
       "      <td>colombo reuters european lawmaker said thursda...</td>\n",
       "      <td>1</td>\n",
       "    </tr>\n",
       "    <tr>\n",
       "      <th>4</th>\n",
       "      <td>WASHINGTON (Reuters) - U.S. House Speaker Paul...</td>\n",
       "      <td>washington reuters u house speaker paul ryan t...</td>\n",
       "      <td>1</td>\n",
       "    </tr>\n",
       "  </tbody>\n",
       "</table>\n",
       "</div>"
      ],
      "text/plain": [
       "                                                text  \\\n",
       "0  WASHINGTON (Reuters) - Senate Majority Leader ...   \n",
       "1  This is a mind-blowing interview that confirms...   \n",
       "2  BERLIN (Reuters) - The number of foreigners wh...   \n",
       "3  COLOMBO (Reuters) - European lawmakers said on...   \n",
       "4  WASHINGTON (Reuters) - U.S. House Speaker Paul...   \n",
       "\n",
       "                                          clean_text  label  \n",
       "0  washington reuters senate majority leader mitc...      1  \n",
       "1  mindblowing interview confirms much many u sus...      0  \n",
       "2  berlin reuters number foreigner qualify join l...      1  \n",
       "3  colombo reuters european lawmaker said thursda...      1  \n",
       "4  washington reuters u house speaker paul ryan t...      1  "
      ]
     },
     "execution_count": 17,
     "metadata": {},
     "output_type": "execute_result"
    }
   ],
   "source": [
    "lemmatizer = WordNetLemmatizer()\n",
    "stop_words = set(stopwords.words(\"english\"))\n",
    "\n",
    "def clean_text(text):\n",
    "    text = text.lower()  # Lowercase\n",
    "    text = text.translate(str.maketrans(\"\", \"\", string.punctuation))  # Remove punctuation\n",
    "    tokens = text.split()  # Tokenization\n",
    "    tokens = [lemmatizer.lemmatize(word) for word in tokens if word not in stop_words]  # Remove stopwords + Lemmatization\n",
    "    return \" \".join(tokens)\n",
    "\n",
    "# Apply preprocessing\n",
    "data[\"clean_text\"] = data[\"text\"].apply(clean_text)\n",
    "\n",
    "data[[\"text\", \"clean_text\", \"label\"]].head()\n"
   ]
  },
  {
   "cell_type": "markdown",
   "id": "fd2b82f1",
   "metadata": {},
   "source": [
    "Train test split"
   ]
  },
  {
   "cell_type": "code",
   "execution_count": 18,
   "id": "d644ca85",
   "metadata": {},
   "outputs": [],
   "source": [
    "# Features and labels\n",
    "X = data[\"clean_text\"]\n",
    "y = data[\"label\"]\n",
    "\n",
    "# Convert text into numerical features using TF-IDF\n",
    "vectorizer = TfidfVectorizer(max_features=5000)\n",
    "X = vectorizer.fit_transform(X)\n",
    "\n",
    "# Split dataset\n",
    "X_train, X_test, y_train, y_test = train_test_split(\n",
    "    X, y, test_size=0.2, random_state=42, stratify=y\n",
    ")\n"
   ]
  },
  {
   "cell_type": "markdown",
   "id": "136fab71",
   "metadata": {},
   "source": [
    "Models training"
   ]
  },
  {
   "cell_type": "code",
   "execution_count": 19,
   "id": "e8e1df44",
   "metadata": {},
   "outputs": [
    {
     "name": "stdout",
     "output_type": "stream",
     "text": [
      "\n",
      "===== Logistic Regression =====\n",
      "              precision    recall  f1-score   support\n",
      "\n",
      "           0       0.99      0.98      0.99      4696\n",
      "           1       0.98      0.99      0.99      4284\n",
      "\n",
      "    accuracy                           0.99      8980\n",
      "   macro avg       0.99      0.99      0.99      8980\n",
      "weighted avg       0.99      0.99      0.99      8980\n",
      "\n",
      "\n",
      "===== Naive Bayes =====\n",
      "              precision    recall  f1-score   support\n",
      "\n",
      "           0       0.95      0.94      0.95      4696\n",
      "           1       0.94      0.95      0.94      4284\n",
      "\n",
      "    accuracy                           0.94      8980\n",
      "   macro avg       0.94      0.94      0.94      8980\n",
      "weighted avg       0.94      0.94      0.94      8980\n",
      "\n",
      "\n",
      "===== Random Forest =====\n",
      "              precision    recall  f1-score   support\n",
      "\n",
      "           0       1.00      1.00      1.00      4696\n",
      "           1       1.00      1.00      1.00      4284\n",
      "\n",
      "    accuracy                           1.00      8980\n",
      "   macro avg       1.00      1.00      1.00      8980\n",
      "weighted avg       1.00      1.00      1.00      8980\n",
      "\n"
     ]
    }
   ],
   "source": [
    "models = {\n",
    "    \"Logistic Regression\": LogisticRegression(max_iter=1000),\n",
    "    \"Naive Bayes\": MultinomialNB(),\n",
    "    \"Random Forest\": RandomForestClassifier(n_estimators=100, random_state=42)\n",
    "}\n",
    "\n",
    "results = {}\n",
    "\n",
    "for model_name, model in models.items():\n",
    "    model.fit(X_train, y_train)\n",
    "    y_pred = model.predict(X_test)\n",
    "    \n",
    "    acc = accuracy_score(y_test, y_pred)\n",
    "    prec = precision_score(y_test, y_pred)\n",
    "    rec = recall_score(y_test, y_pred)\n",
    "    f1 = f1_score(y_test, y_pred)\n",
    "    \n",
    "    results[model_name] = [acc, prec, rec, f1]\n",
    "    \n",
    "    print(f\"\\n===== {model_name} =====\")\n",
    "    print(classification_report(y_test, y_pred))\n"
   ]
  },
  {
   "cell_type": "markdown",
   "id": "82f462fa",
   "metadata": {},
   "source": [
    "Model performance comparison"
   ]
  },
  {
   "cell_type": "code",
   "execution_count": 20,
   "id": "eac204b0",
   "metadata": {},
   "outputs": [
    {
     "name": "stdout",
     "output_type": "stream",
     "text": [
      "Model Performance Comparison:\n",
      "\n",
      "           Logistic Regression  Naive Bayes  Random Forest\n",
      "Accuracy              0.986748     0.944321       0.997661\n",
      "Precision             0.982619     0.935543       0.996275\n",
      "Recall                0.989729     0.948646       0.998833\n",
      "F1-score              0.986161     0.942049       0.997552\n"
     ]
    },
    {
     "data": {
      "image/png": "[encoded data removed]",
      "text/plain": [
       "<Figure size 800x600 with 1 Axes>"
      ]
     },
     "metadata": {},
     "output_type": "display_data"
    }
   ],
   "source": [
    "results_df = pd.DataFrame(results, index=[\"Accuracy\", \"Precision\", \"Recall\", \"F1-score\"])\n",
    "print(\"Model Performance Comparison:\\n\")\n",
    "print(results_df)\n",
    "\n",
    "# Plot performance\n",
    "results_df.T.plot(kind=\"bar\", figsize=(8,6))\n",
    "plt.title(\"Model Performance Comparison\")\n",
    "plt.ylabel(\"Score\")\n",
    "plt.xticks(rotation=0)\n",
    "plt.show()\n"
   ]
  },
  {
   "cell_type": "markdown",
   "id": "716b53b6",
   "metadata": {},
   "source": [
    "confusion matrix logistic regression"
   ]
  },
  {
   "cell_type": "code",
   "execution_count": 22,
   "id": "d428b47b",
   "metadata": {},
   "outputs": [
    {
     "data": {
      "image/png": "[encoded data removed]",
      "text/plain": [
       "<Figure size 640x480 with 2 Axes>"
      ]
     },
     "metadata": {},
     "output_type": "display_data"
    }
   ],
   "source": [
    "best_model = LogisticRegression(max_iter=1000)\n",
    "best_model.fit(X_train, y_train)\n",
    "y_pred = best_model.predict(X_test)\n",
    "\n",
    "cm = confusion_matrix(y_test, y_pred)\n",
    "\n",
    "sns.heatmap(cm, annot=True, fmt=\"d\", cmap=\"Blues\", xticklabels=[\"Fake\", \"Real\"], yticklabels=[\"Fake\", \"Real\"])\n",
    "plt.title(\"Confusion Matrix - Logistic Regression\")\n",
    "plt.xlabel(\"Predicted\")\n",
    "plt.ylabel(\"Actual\")\n",
    "plt.show()\n"
   ]
  },
  {
   "cell_type": "markdown",
   "id": "e6ce3090",
   "metadata": {},
   "source": [
    "detection of real or fake news"
   ]
  },
  {
   "cell_type": "code",
   "execution_count": 25,
   "id": "c5a245c8",
   "metadata": {},
   "outputs": [
    {
     "name": "stdout",
     "output_type": "stream",
     "text": [
      "Classified as: REAL  (Confidence: 0.77)\n",
      "Classified as: FAKE  (Confidence: 0.92)\n",
      "Exiting Terminal.\n"
     ]
    }
   ],
   "source": [
    "# Function to predict custom news (fixed)\n",
    "def predict_news(news_text, model=best_model, vectorizer=vectorizer):\n",
    "    # Apply same preprocessing\n",
    "    cleaned_text = clean_text(news_text)\n",
    "    \n",
    "    if not cleaned_text.strip():  # If empty after cleaning\n",
    "        print(\"⚠️ Input too short or contains only stopwords, cannot classify.\")\n",
    "        return\n",
    "    \n",
    "    # Transform using SAME vectorizer from training\n",
    "    vectorized_text = vectorizer.transform([cleaned_text])\n",
    "    \n",
    "    # Predict\n",
    "    prediction = model.predict(vectorized_text)[0]\n",
    "    prob = model.predict_proba(vectorized_text)[0]  # Confidence score\n",
    "    \n",
    "    if prediction == 1:\n",
    "        print(f\"Classified as: REAL  (Confidence: {prob[1]:.2f})\")\n",
    "    else:\n",
    "        print(f\"Classified as: FAKE  (Confidence: {prob[0]:.2f})\")\n",
    "\n",
    "# give input manually\n",
    "while True:\n",
    "    user_input = input(\"\\n📰 Enter news text (or type 'exit' to quit): \")\n",
    "    if user_input.lower() == \"exit\":\n",
    "        print(\"Exiting Terminal.\")\n",
    "        break\n",
    "    predict_news(user_input)\n",
    "\n"
   ]
  }
 ],
 "metadata": {
  "kernelspec": {
   "display_name": "Python 3",
   "language": "python",
   "name": "python3"
  },
  "language_info": {
   "codemirror_mode": {
    "name": "ipython",
    "version": 3
   },
   "file_extension": ".py",
   "mimetype": "text/x-python",
   "name": "python",
   "nbconvert_exporter": "python",
   "pygments_lexer": "ipython3",
   "version": "3.13.7"
  }
 },
 "nbformat": 4,
 "nbformat_minor": 5
}
